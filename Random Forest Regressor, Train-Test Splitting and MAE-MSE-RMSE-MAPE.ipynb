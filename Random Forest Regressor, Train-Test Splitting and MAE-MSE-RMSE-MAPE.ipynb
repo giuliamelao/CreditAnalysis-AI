{
 "cells": [
  {
   "cell_type": "markdown",
   "id": "96117fdb",
   "metadata": {},
   "source": [
    "### Presentation 04\n",
    "\n",
    "Objective: generate and present credit values predictions using RFR"
   ]
  },
  {
   "cell_type": "code",
   "execution_count": 1,
   "id": "6d7c70ff",
   "metadata": {},
   "outputs": [],
   "source": [
    "import pandas as pd\n",
    "import numpy as np\n",
    "from sklearn.model_selection import train_test_split\n",
    "from sklearn.ensemble import RandomForestRegressor\n",
    "from sklearn.metrics import mean_absolute_error, mean_squared_error, mean_absolute_percentage_error"
   ]
  },
  {
   "cell_type": "code",
   "execution_count": 2,
   "id": "5b0563d6",
   "metadata": {},
   "outputs": [],
   "source": [
    "df = pd.read_csv('/home/gmelao/Desktop/default-of-credit-card-clients.csv')\n",
    "df.columns = df.iloc[0]\n",
    "df.drop(0, inplace = True)\n",
    "df.set_index('ID', inplace = True)\n",
    "pd.set_option('display.max_columns', 24)\n",
    "pd.set_option('display.max_rows', 24)"
   ]
  },
  {
   "cell_type": "code",
   "execution_count": 3,
   "id": "b2b61d9a",
   "metadata": {},
   "outputs": [],
   "source": [
    "df = df.apply(lambda df: pd.Series(map(float, df)))"
   ]
  },
  {
   "cell_type": "markdown",
   "id": "6a4cf6cf",
   "metadata": {},
   "source": [
    "#### Train Test Split\n",
    "Split arrays or matrices into random train and test subsets."
   ]
  },
  {
   "cell_type": "code",
   "execution_count": 4,
   "id": "c9ce1b29",
   "metadata": {},
   "outputs": [],
   "source": [
    "X = df.drop('LIMIT_BAL', axis=1)\n",
    "y = df['LIMIT_BAL']"
   ]
  },
  {
   "cell_type": "code",
   "execution_count": 5,
   "id": "7f486908",
   "metadata": {},
   "outputs": [],
   "source": [
    "X_train, X_test, y_train, y_test = train_test_split(X, y, test_size=0.33, random_state=42)"
   ]
  },
  {
   "cell_type": "markdown",
   "id": "b01fc30d",
   "metadata": {},
   "source": [
    "#### Random Forest Regressor\n",
    "\n",
    "A random forest is a meta estimator that fits a number of classifying decision trees on various sub-samples of the dataset and uses averaging to improve the predictive accuracy and control over-fitting. The sub-sample size is controlled with the max_samples parameter if bootstrap=True (default), otherwise the whole dataset is used to build each tree."
   ]
  },
  {
   "cell_type": "code",
   "execution_count": 6,
   "id": "fbee2578",
   "metadata": {},
   "outputs": [],
   "source": [
    "model = RandomForestRegressor()"
   ]
  },
  {
   "cell_type": "code",
   "execution_count": 7,
   "id": "428ccf79",
   "metadata": {},
   "outputs": [
    {
     "data": {
      "text/html": [
       "<style>#sk-container-id-1 {color: black;background-color: white;}#sk-container-id-1 pre{padding: 0;}#sk-container-id-1 div.sk-toggleable {background-color: white;}#sk-container-id-1 label.sk-toggleable__label {cursor: pointer;display: block;width: 100%;margin-bottom: 0;padding: 0.3em;box-sizing: border-box;text-align: center;}#sk-container-id-1 label.sk-toggleable__label-arrow:before {content: \"▸\";float: left;margin-right: 0.25em;color: #696969;}#sk-container-id-1 label.sk-toggleable__label-arrow:hover:before {color: black;}#sk-container-id-1 div.sk-estimator:hover label.sk-toggleable__label-arrow:before {color: black;}#sk-container-id-1 div.sk-toggleable__content {max-height: 0;max-width: 0;overflow: hidden;text-align: left;background-color: #f0f8ff;}#sk-container-id-1 div.sk-toggleable__content pre {margin: 0.2em;color: black;border-radius: 0.25em;background-color: #f0f8ff;}#sk-container-id-1 input.sk-toggleable__control:checked~div.sk-toggleable__content {max-height: 200px;max-width: 100%;overflow: auto;}#sk-container-id-1 input.sk-toggleable__control:checked~label.sk-toggleable__label-arrow:before {content: \"▾\";}#sk-container-id-1 div.sk-estimator input.sk-toggleable__control:checked~label.sk-toggleable__label {background-color: #d4ebff;}#sk-container-id-1 div.sk-label input.sk-toggleable__control:checked~label.sk-toggleable__label {background-color: #d4ebff;}#sk-container-id-1 input.sk-hidden--visually {border: 0;clip: rect(1px 1px 1px 1px);clip: rect(1px, 1px, 1px, 1px);height: 1px;margin: -1px;overflow: hidden;padding: 0;position: absolute;width: 1px;}#sk-container-id-1 div.sk-estimator {font-family: monospace;background-color: #f0f8ff;border: 1px dotted black;border-radius: 0.25em;box-sizing: border-box;margin-bottom: 0.5em;}#sk-container-id-1 div.sk-estimator:hover {background-color: #d4ebff;}#sk-container-id-1 div.sk-parallel-item::after {content: \"\";width: 100%;border-bottom: 1px solid gray;flex-grow: 1;}#sk-container-id-1 div.sk-label:hover label.sk-toggleable__label {background-color: #d4ebff;}#sk-container-id-1 div.sk-serial::before {content: \"\";position: absolute;border-left: 1px solid gray;box-sizing: border-box;top: 0;bottom: 0;left: 50%;z-index: 0;}#sk-container-id-1 div.sk-serial {display: flex;flex-direction: column;align-items: center;background-color: white;padding-right: 0.2em;padding-left: 0.2em;position: relative;}#sk-container-id-1 div.sk-item {position: relative;z-index: 1;}#sk-container-id-1 div.sk-parallel {display: flex;align-items: stretch;justify-content: center;background-color: white;position: relative;}#sk-container-id-1 div.sk-item::before, #sk-container-id-1 div.sk-parallel-item::before {content: \"\";position: absolute;border-left: 1px solid gray;box-sizing: border-box;top: 0;bottom: 0;left: 50%;z-index: -1;}#sk-container-id-1 div.sk-parallel-item {display: flex;flex-direction: column;z-index: 1;position: relative;background-color: white;}#sk-container-id-1 div.sk-parallel-item:first-child::after {align-self: flex-end;width: 50%;}#sk-container-id-1 div.sk-parallel-item:last-child::after {align-self: flex-start;width: 50%;}#sk-container-id-1 div.sk-parallel-item:only-child::after {width: 0;}#sk-container-id-1 div.sk-dashed-wrapped {border: 1px dashed gray;margin: 0 0.4em 0.5em 0.4em;box-sizing: border-box;padding-bottom: 0.4em;background-color: white;}#sk-container-id-1 div.sk-label label {font-family: monospace;font-weight: bold;display: inline-block;line-height: 1.2em;}#sk-container-id-1 div.sk-label-container {text-align: center;}#sk-container-id-1 div.sk-container {/* jupyter's `normalize.less` sets `[hidden] { display: none; }` but bootstrap.min.css set `[hidden] { display: none !important; }` so we also need the `!important` here to be able to override the default hidden behavior on the sphinx rendered scikit-learn.org. See: https://github.com/scikit-learn/scikit-learn/issues/21755 */display: inline-block !important;position: relative;}#sk-container-id-1 div.sk-text-repr-fallback {display: none;}</style><div id=\"sk-container-id-1\" class=\"sk-top-container\"><div class=\"sk-text-repr-fallback\"><pre>RandomForestRegressor()</pre><b>In a Jupyter environment, please rerun this cell to show the HTML representation or trust the notebook. <br />On GitHub, the HTML representation is unable to render, please try loading this page with nbviewer.org.</b></div><div class=\"sk-container\" hidden><div class=\"sk-item\"><div class=\"sk-estimator sk-toggleable\"><input class=\"sk-toggleable__control sk-hidden--visually\" id=\"sk-estimator-id-1\" type=\"checkbox\" checked><label for=\"sk-estimator-id-1\" class=\"sk-toggleable__label sk-toggleable__label-arrow\">RandomForestRegressor</label><div class=\"sk-toggleable__content\"><pre>RandomForestRegressor()</pre></div></div></div></div></div>"
      ],
      "text/plain": [
       "RandomForestRegressor()"
      ]
     },
     "execution_count": 7,
     "metadata": {},
     "output_type": "execute_result"
    }
   ],
   "source": [
    "model.fit(X_train, y_train)"
   ]
  },
  {
   "cell_type": "code",
   "execution_count": 8,
   "id": "272c09b1",
   "metadata": {},
   "outputs": [
    {
     "data": {
      "text/plain": [
       "array([ 71300., 180600., 131500., ..., 235100., 168900., 116800.])"
      ]
     },
     "execution_count": 8,
     "metadata": {},
     "output_type": "execute_result"
    }
   ],
   "source": [
    "preds = model.predict(X_test)\n",
    "preds"
   ]
  },
  {
   "cell_type": "code",
   "execution_count": 9,
   "id": "f65aaba3",
   "metadata": {},
   "outputs": [
    {
     "data": {
      "text/html": [
       "<div>\n",
       "<style scoped>\n",
       "    .dataframe tbody tr th:only-of-type {\n",
       "        vertical-align: middle;\n",
       "    }\n",
       "\n",
       "    .dataframe tbody tr th {\n",
       "        vertical-align: top;\n",
       "    }\n",
       "\n",
       "    .dataframe thead th {\n",
       "        text-align: right;\n",
       "    }\n",
       "</style>\n",
       "<table border=\"1\" class=\"dataframe\">\n",
       "  <thead>\n",
       "    <tr style=\"text-align: right;\">\n",
       "      <th></th>\n",
       "      <th>Credit Prediction</th>\n",
       "    </tr>\n",
       "  </thead>\n",
       "  <tbody>\n",
       "    <tr>\n",
       "      <th>0</th>\n",
       "      <td>71300.000000</td>\n",
       "    </tr>\n",
       "    <tr>\n",
       "      <th>1</th>\n",
       "      <td>180600.000000</td>\n",
       "    </tr>\n",
       "    <tr>\n",
       "      <th>2</th>\n",
       "      <td>131500.000000</td>\n",
       "    </tr>\n",
       "    <tr>\n",
       "      <th>3</th>\n",
       "      <td>154300.000000</td>\n",
       "    </tr>\n",
       "    <tr>\n",
       "      <th>4</th>\n",
       "      <td>140100.000000</td>\n",
       "    </tr>\n",
       "    <tr>\n",
       "      <th>...</th>\n",
       "      <td>...</td>\n",
       "    </tr>\n",
       "    <tr>\n",
       "      <th>9895</th>\n",
       "      <td>154716.666667</td>\n",
       "    </tr>\n",
       "    <tr>\n",
       "      <th>9896</th>\n",
       "      <td>140900.000000</td>\n",
       "    </tr>\n",
       "    <tr>\n",
       "      <th>9897</th>\n",
       "      <td>235100.000000</td>\n",
       "    </tr>\n",
       "    <tr>\n",
       "      <th>9898</th>\n",
       "      <td>168900.000000</td>\n",
       "    </tr>\n",
       "    <tr>\n",
       "      <th>9899</th>\n",
       "      <td>116800.000000</td>\n",
       "    </tr>\n",
       "  </tbody>\n",
       "</table>\n",
       "<p>9900 rows × 1 columns</p>\n",
       "</div>"
      ],
      "text/plain": [
       "      Credit Prediction\n",
       "0          71300.000000\n",
       "1         180600.000000\n",
       "2         131500.000000\n",
       "3         154300.000000\n",
       "4         140100.000000\n",
       "...                 ...\n",
       "9895      154716.666667\n",
       "9896      140900.000000\n",
       "9897      235100.000000\n",
       "9898      168900.000000\n",
       "9899      116800.000000\n",
       "\n",
       "[9900 rows x 1 columns]"
      ]
     },
     "execution_count": 9,
     "metadata": {},
     "output_type": "execute_result"
    }
   ],
   "source": [
    "pd.DataFrame(preds, columns=['Credit Prediction'])"
   ]
  },
  {
   "cell_type": "markdown",
   "id": "c060e4b8",
   "metadata": {},
   "source": [
    "#### Metrics\n",
    "\n",
    "MAE: it is the mean of the absolute error. This gives less weight to outliers, which is not sensitive to outliers.\n",
    "\n",
    "MSE: MSE is a combination measurement of bias and variance of your prediction\n",
    "\n",
    "RMSE: Take a root of MSE would bring the unit back to actual unit, easy to interpret your model accuracy.\n",
    "\n",
    "MAPE: MAPE is the sum of the individual absolute errors divided by the demand (each period separately). It is the average of the percentage errors."
   ]
  },
  {
   "cell_type": "code",
   "execution_count": 11,
   "id": "8a0ec978",
   "metadata": {},
   "outputs": [],
   "source": [
    "mae = mean_absolute_error(y_test, preds)"
   ]
  },
  {
   "cell_type": "code",
   "execution_count": 12,
   "id": "b0fd5611",
   "metadata": {},
   "outputs": [],
   "source": [
    "mse = mean_squared_error(y_test, preds)"
   ]
  },
  {
   "cell_type": "code",
   "execution_count": 13,
   "id": "60a764c0",
   "metadata": {},
   "outputs": [],
   "source": [
    "rmse = np.sqrt(mean_squared_error(y_test, preds))"
   ]
  },
  {
   "cell_type": "code",
   "execution_count": 14,
   "id": "9905d94c",
   "metadata": {},
   "outputs": [],
   "source": [
    "mape = mean_absolute_percentage_error(y_test, preds)"
   ]
  },
  {
   "cell_type": "code",
   "execution_count": 15,
   "id": "cb7266e3",
   "metadata": {},
   "outputs": [
    {
     "name": "stdout",
     "output_type": "stream",
     "text": [
      "MAE:  68484.06770094384\n",
      "MSE:  9025328793.808342\n",
      "RMSE: 95001.7304779673\n",
      "MAPE: 0.7853820680953061\n"
     ]
    }
   ],
   "source": [
    "print(f'MAE:  {mae}')\n",
    "print(f'MSE:  {mse}')\n",
    "print(f'RMSE: {rmse}')\n",
    "print(f'MAPE: {mape}')"
   ]
  },
  {
   "cell_type": "code",
   "execution_count": null,
   "id": "0187615c",
   "metadata": {},
   "outputs": [],
   "source": []
  },
  {
   "cell_type": "code",
   "execution_count": 17,
   "id": "d5da423c",
   "metadata": {},
   "outputs": [
    {
     "data": {
      "text/plain": [
       "167197.61194029852"
      ]
     },
     "execution_count": 17,
     "metadata": {},
     "output_type": "execute_result"
    }
   ],
   "source": [
    "y_train.mean()"
   ]
  },
  {
   "cell_type": "code",
   "execution_count": 20,
   "id": "53470ad2",
   "metadata": {},
   "outputs": [],
   "source": [
    "baseline = np.arange(9900)\n",
    "baseline.fill(y_train.mean())"
   ]
  },
  {
   "cell_type": "code",
   "execution_count": 21,
   "id": "ddb9eb9d",
   "metadata": {},
   "outputs": [],
   "source": [
    "mae_baseline = mean_absolute_error(y_test, baseline)\n",
    "mse_baseline = mean_squared_error(y_test, baseline)\n",
    "rmse_baseline = np.sqrt(mean_squared_error(y_test, baseline))\n",
    "mape_baseline = mean_absolute_percentage_error(y_test, baseline)"
   ]
  },
  {
   "cell_type": "code",
   "execution_count": 22,
   "id": "8078b7a6",
   "metadata": {},
   "outputs": [
    {
     "name": "stdout",
     "output_type": "stream",
     "text": [
      "MAE:  105694.56606060606\n",
      "MSE:  17081185206.624243\n",
      "RMSE: 130695.00834624191\n",
      "MAPE: 1.669181588976168\n"
     ]
    }
   ],
   "source": [
    "print(f'MAE:  {mae_baseline}')\n",
    "print(f'MSE:  {mse_baseline}')\n",
    "print(f'RMSE: {rmse_baseline}')\n",
    "print(f'MAPE: {mape_baseline}')"
   ]
  },
  {
   "cell_type": "code",
   "execution_count": null,
   "id": "e7635bcc",
   "metadata": {},
   "outputs": [],
   "source": []
  },
  {
   "cell_type": "code",
   "execution_count": 25,
   "id": "e1420aa0",
   "metadata": {},
   "outputs": [
    {
     "name": "stdout",
     "output_type": "stream",
     "text": [
      "MAE / MAE_BASELINE:   1.5433453299262683\n",
      "MSE / MSE_BASELINE:   1.8925831509143989\n",
      "RMSE / RMSE_BASELINE: 1.3757118706016893\n",
      "MAPE / MAPE_BASELINE: 2.1253115608104425\n"
     ]
    }
   ],
   "source": [
    "print(f'MAE / MAE_BASELINE:   {mae_baseline/mae}')\n",
    "print(f'MSE / MSE_BASELINE:   {mse_baseline/mse}')\n",
    "print(f'RMSE / RMSE_BASELINE: {rmse_baseline/rmse}')\n",
    "print(f'MAPE / MAPE_BASELINE: {mape_baseline/mape}')"
   ]
  },
  {
   "cell_type": "code",
   "execution_count": null,
   "id": "d14892ab",
   "metadata": {},
   "outputs": [],
   "source": []
  }
 ],
 "metadata": {
  "kernelspec": {
   "display_name": "Python 3 (ipykernel)",
   "language": "python",
   "name": "python3"
  },
  "language_info": {
   "codemirror_mode": {
    "name": "ipython",
    "version": 3
   },
   "file_extension": ".py",
   "mimetype": "text/x-python",
   "name": "python",
   "nbconvert_exporter": "python",
   "pygments_lexer": "ipython3",
   "version": "3.10.6"
  }
 },
 "nbformat": 4,
 "nbformat_minor": 5
}
